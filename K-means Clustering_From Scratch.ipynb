{
 "cells": [
  {
   "cell_type": "markdown",
   "metadata": {},
   "source": [
    "### Import Libraries"
   ]
  },
  {
   "cell_type": "code",
   "execution_count": 1,
   "metadata": {},
   "outputs": [],
   "source": [
    "import numpy as np\n",
    "from pandas import DataFrame\n",
    "from matplotlib import pyplot as plt\n",
    "from matplotlib.pyplot import figure"
   ]
  },
  {
   "cell_type": "markdown",
   "metadata": {},
   "source": [
    "### Load the Dataset"
   ]
  },
  {
   "cell_type": "code",
   "execution_count": 2,
   "metadata": {},
   "outputs": [
    {
     "data": {
      "text/html": [
       "<div>\n",
       "<style scoped>\n",
       "    .dataframe tbody tr th:only-of-type {\n",
       "        vertical-align: middle;\n",
       "    }\n",
       "\n",
       "    .dataframe tbody tr th {\n",
       "        vertical-align: top;\n",
       "    }\n",
       "\n",
       "    .dataframe thead th {\n",
       "        text-align: right;\n",
       "    }\n",
       "</style>\n",
       "<table border=\"1\" class=\"dataframe\">\n",
       "  <thead>\n",
       "    <tr style=\"text-align: right;\">\n",
       "      <th></th>\n",
       "      <th>Which year are you in?</th>\n",
       "      <th>How are you feeling right now?</th>\n",
       "      <th>On a scale of 1-100, how would you express this feeling?</th>\n",
       "      <th>Gender</th>\n",
       "      <th>Age</th>\n",
       "      <th>Your location ?</th>\n",
       "      <th>Relationship status</th>\n",
       "      <th>Are you happy with your financial state?</th>\n",
       "      <th>How much have you succeeded to cope up with the environment of your educational institution?</th>\n",
       "      <th>Understanding with your family members?</th>\n",
       "      <th>Are you feeling pressure in your study or work right now?</th>\n",
       "      <th>Are you satisfied with your academic result?</th>\n",
       "      <th>Are you happy with your living place?</th>\n",
       "      <th>Who supports you when you are not succeeding in your academic life?</th>\n",
       "      <th>Have you used any social media within the last 6 hours?</th>\n",
       "      <th>Do you have inferiority complex?</th>\n",
       "      <th>Are you satisfied with your meal today?</th>\n",
       "      <th>Are you feeling sick/health issues today?</th>\n",
       "      <th>Have you done any recreational activity (sports, gaming, hobby etc.) today?</th>\n",
       "      <th>How long did you sleep last night?(in hours)</th>\n",
       "    </tr>\n",
       "  </thead>\n",
       "  <tbody>\n",
       "    <tr>\n",
       "      <th>0</th>\n",
       "      <td>4th year</td>\n",
       "      <td>Normal</td>\n",
       "      <td>50</td>\n",
       "      <td>Male</td>\n",
       "      <td>25</td>\n",
       "      <td>Home</td>\n",
       "      <td>In a relationship</td>\n",
       "      <td>Yes</td>\n",
       "      <td>3</td>\n",
       "      <td>Normal</td>\n",
       "      <td>No</td>\n",
       "      <td>No</td>\n",
       "      <td>Yes</td>\n",
       "      <td>Not applicable</td>\n",
       "      <td>Yes</td>\n",
       "      <td>No</td>\n",
       "      <td>Yes</td>\n",
       "      <td>No</td>\n",
       "      <td>No</td>\n",
       "      <td>6</td>\n",
       "    </tr>\n",
       "    <tr>\n",
       "      <th>1</th>\n",
       "      <td>4th year</td>\n",
       "      <td>Good</td>\n",
       "      <td>80</td>\n",
       "      <td>Male</td>\n",
       "      <td>25</td>\n",
       "      <td>Home</td>\n",
       "      <td>In a relationship</td>\n",
       "      <td>Yes</td>\n",
       "      <td>3</td>\n",
       "      <td>Good</td>\n",
       "      <td>No</td>\n",
       "      <td>No</td>\n",
       "      <td>Yes</td>\n",
       "      <td>No one</td>\n",
       "      <td>Yes</td>\n",
       "      <td>No</td>\n",
       "      <td>Neutral</td>\n",
       "      <td>No</td>\n",
       "      <td>No</td>\n",
       "      <td>6</td>\n",
       "    </tr>\n",
       "    <tr>\n",
       "      <th>2</th>\n",
       "      <td>4th year</td>\n",
       "      <td>Very good</td>\n",
       "      <td>90</td>\n",
       "      <td>Male</td>\n",
       "      <td>25</td>\n",
       "      <td>Home</td>\n",
       "      <td>In a relationship</td>\n",
       "      <td>Yes</td>\n",
       "      <td>3</td>\n",
       "      <td>Normal</td>\n",
       "      <td>No</td>\n",
       "      <td>No</td>\n",
       "      <td>Yes</td>\n",
       "      <td>No one</td>\n",
       "      <td>Yes</td>\n",
       "      <td>Maybe</td>\n",
       "      <td>Yes</td>\n",
       "      <td>No</td>\n",
       "      <td>No</td>\n",
       "      <td>7</td>\n",
       "    </tr>\n",
       "    <tr>\n",
       "      <th>3</th>\n",
       "      <td>4th year</td>\n",
       "      <td>Normal</td>\n",
       "      <td>70</td>\n",
       "      <td>Male</td>\n",
       "      <td>25</td>\n",
       "      <td>Home</td>\n",
       "      <td>In a relationship</td>\n",
       "      <td>Yes</td>\n",
       "      <td>3</td>\n",
       "      <td>Normal</td>\n",
       "      <td>No</td>\n",
       "      <td>No</td>\n",
       "      <td>Yes</td>\n",
       "      <td>No one</td>\n",
       "      <td>Yes</td>\n",
       "      <td>Maybe</td>\n",
       "      <td>Neutral</td>\n",
       "      <td>No</td>\n",
       "      <td>No</td>\n",
       "      <td>8</td>\n",
       "    </tr>\n",
       "    <tr>\n",
       "      <th>4</th>\n",
       "      <td>1st year</td>\n",
       "      <td>Normal</td>\n",
       "      <td>50</td>\n",
       "      <td>Male</td>\n",
       "      <td>22</td>\n",
       "      <td>Home</td>\n",
       "      <td>In a relationship</td>\n",
       "      <td>Yes</td>\n",
       "      <td>3</td>\n",
       "      <td>Normal</td>\n",
       "      <td>Yes</td>\n",
       "      <td>No</td>\n",
       "      <td>Yes</td>\n",
       "      <td>No one</td>\n",
       "      <td>No</td>\n",
       "      <td>No</td>\n",
       "      <td>Yes</td>\n",
       "      <td>No</td>\n",
       "      <td>No</td>\n",
       "      <td>6</td>\n",
       "    </tr>\n",
       "  </tbody>\n",
       "</table>\n",
       "</div>"
      ],
      "text/plain": [
       "  Which year are you in? How are you feeling right now?  \\\n",
       "0               4th year                         Normal   \n",
       "1               4th year                           Good   \n",
       "2               4th year                      Very good   \n",
       "3               4th year                         Normal   \n",
       "4               1st year                         Normal   \n",
       "\n",
       "   On a scale of 1-100, how would you express this feeling? Gender  Age  \\\n",
       "0                                                 50          Male   25   \n",
       "1                                                 80          Male   25   \n",
       "2                                                 90          Male   25   \n",
       "3                                                 70          Male   25   \n",
       "4                                                 50          Male   22   \n",
       "\n",
       "  Your location ? Relationship status  \\\n",
       "0            Home   In a relationship   \n",
       "1            Home   In a relationship   \n",
       "2            Home   In a relationship   \n",
       "3            Home   In a relationship   \n",
       "4            Home   In a relationship   \n",
       "\n",
       "  Are you happy with your financial state?  \\\n",
       "0                                      Yes   \n",
       "1                                      Yes   \n",
       "2                                      Yes   \n",
       "3                                      Yes   \n",
       "4                                      Yes   \n",
       "\n",
       "   How much have you succeeded to cope up with the environment of your educational institution?  \\\n",
       "0                                                  3                                              \n",
       "1                                                  3                                              \n",
       "2                                                  3                                              \n",
       "3                                                  3                                              \n",
       "4                                                  3                                              \n",
       "\n",
       "  Understanding with your family members?  \\\n",
       "0                                  Normal   \n",
       "1                                    Good   \n",
       "2                                  Normal   \n",
       "3                                  Normal   \n",
       "4                                  Normal   \n",
       "\n",
       "  Are you feeling pressure in your study or work right now?  \\\n",
       "0                                                 No          \n",
       "1                                                 No          \n",
       "2                                                 No          \n",
       "3                                                 No          \n",
       "4                                                Yes          \n",
       "\n",
       "  Are you satisfied with your academic result?  \\\n",
       "0                                           No   \n",
       "1                                           No   \n",
       "2                                           No   \n",
       "3                                           No   \n",
       "4                                           No   \n",
       "\n",
       "  Are you happy with your living place?  \\\n",
       "0                                   Yes   \n",
       "1                                   Yes   \n",
       "2                                   Yes   \n",
       "3                                   Yes   \n",
       "4                                   Yes   \n",
       "\n",
       "  Who supports you when you are not succeeding in your academic life?  \\\n",
       "0                                     Not applicable                    \n",
       "1                                             No one                    \n",
       "2                                             No one                    \n",
       "3                                             No one                    \n",
       "4                                             No one                    \n",
       "\n",
       "  Have you used any social media within the last 6 hours?  \\\n",
       "0                                                Yes        \n",
       "1                                                Yes        \n",
       "2                                                Yes        \n",
       "3                                                Yes        \n",
       "4                                                 No        \n",
       "\n",
       "  Do you have inferiority complex?  Are you satisfied with your meal today?  \\\n",
       "0                                No                                     Yes   \n",
       "1                                No                                 Neutral   \n",
       "2                             Maybe                                     Yes   \n",
       "3                             Maybe                                 Neutral   \n",
       "4                                No                                     Yes   \n",
       "\n",
       "  Are you feeling sick/health issues today?  \\\n",
       "0                                        No   \n",
       "1                                        No   \n",
       "2                                        No   \n",
       "3                                        No   \n",
       "4                                        No   \n",
       "\n",
       "  Have you done any recreational activity (sports, gaming, hobby etc.) today?  \\\n",
       "0                                                 No                            \n",
       "1                                                 No                            \n",
       "2                                                 No                            \n",
       "3                                                 No                            \n",
       "4                                                 No                            \n",
       "\n",
       "   How long did you sleep last night?(in hours)  \n",
       "0                                             6  \n",
       "1                                             6  \n",
       "2                                             7  \n",
       "3                                             8  \n",
       "4                                             6  "
      ]
     },
     "execution_count": 2,
     "metadata": {},
     "output_type": "execute_result"
    }
   ],
   "source": [
    "import pandas as pd\n",
    "df = pd.read_csv('Depression and  Happiness Factor Analysis_1604050.csv')\n",
    "df.head()"
   ]
  },
  {
   "cell_type": "code",
   "execution_count": 3,
   "metadata": {},
   "outputs": [
    {
     "data": {
      "text/html": [
       "<div>\n",
       "<style scoped>\n",
       "    .dataframe tbody tr th:only-of-type {\n",
       "        vertical-align: middle;\n",
       "    }\n",
       "\n",
       "    .dataframe tbody tr th {\n",
       "        vertical-align: top;\n",
       "    }\n",
       "\n",
       "    .dataframe thead th {\n",
       "        text-align: right;\n",
       "    }\n",
       "</style>\n",
       "<table border=\"1\" class=\"dataframe\">\n",
       "  <thead>\n",
       "    <tr style=\"text-align: right;\">\n",
       "      <th></th>\n",
       "      <th>Education</th>\n",
       "      <th>Emotion_category</th>\n",
       "      <th>Scale</th>\n",
       "      <th>Gender</th>\n",
       "      <th>Age</th>\n",
       "      <th>Location</th>\n",
       "      <th>Relationship_status</th>\n",
       "      <th>Financial_state</th>\n",
       "      <th>cope_with_environment</th>\n",
       "      <th>Understanding_with_family</th>\n",
       "      <th>Feeling_in_study_work</th>\n",
       "      <th>Academic_result</th>\n",
       "      <th>Living_place</th>\n",
       "      <th>Who_supports?</th>\n",
       "      <th>social_media_activity</th>\n",
       "      <th>Inferiority_complex?</th>\n",
       "      <th>Todays_meal</th>\n",
       "      <th>Health_issues</th>\n",
       "      <th>Recreational_activity</th>\n",
       "      <th>Sleeping_last_night</th>\n",
       "    </tr>\n",
       "  </thead>\n",
       "  <tbody>\n",
       "    <tr>\n",
       "      <th>0</th>\n",
       "      <td>4th year</td>\n",
       "      <td>Normal</td>\n",
       "      <td>50</td>\n",
       "      <td>Male</td>\n",
       "      <td>25</td>\n",
       "      <td>Home</td>\n",
       "      <td>In a relationship</td>\n",
       "      <td>Yes</td>\n",
       "      <td>3</td>\n",
       "      <td>Normal</td>\n",
       "      <td>No</td>\n",
       "      <td>No</td>\n",
       "      <td>Yes</td>\n",
       "      <td>Not applicable</td>\n",
       "      <td>Yes</td>\n",
       "      <td>No</td>\n",
       "      <td>Yes</td>\n",
       "      <td>No</td>\n",
       "      <td>No</td>\n",
       "      <td>6</td>\n",
       "    </tr>\n",
       "    <tr>\n",
       "      <th>1</th>\n",
       "      <td>4th year</td>\n",
       "      <td>Good</td>\n",
       "      <td>80</td>\n",
       "      <td>Male</td>\n",
       "      <td>25</td>\n",
       "      <td>Home</td>\n",
       "      <td>In a relationship</td>\n",
       "      <td>Yes</td>\n",
       "      <td>3</td>\n",
       "      <td>Good</td>\n",
       "      <td>No</td>\n",
       "      <td>No</td>\n",
       "      <td>Yes</td>\n",
       "      <td>No one</td>\n",
       "      <td>Yes</td>\n",
       "      <td>No</td>\n",
       "      <td>Neutral</td>\n",
       "      <td>No</td>\n",
       "      <td>No</td>\n",
       "      <td>6</td>\n",
       "    </tr>\n",
       "    <tr>\n",
       "      <th>2</th>\n",
       "      <td>4th year</td>\n",
       "      <td>Very good</td>\n",
       "      <td>90</td>\n",
       "      <td>Male</td>\n",
       "      <td>25</td>\n",
       "      <td>Home</td>\n",
       "      <td>In a relationship</td>\n",
       "      <td>Yes</td>\n",
       "      <td>3</td>\n",
       "      <td>Normal</td>\n",
       "      <td>No</td>\n",
       "      <td>No</td>\n",
       "      <td>Yes</td>\n",
       "      <td>No one</td>\n",
       "      <td>Yes</td>\n",
       "      <td>Maybe</td>\n",
       "      <td>Yes</td>\n",
       "      <td>No</td>\n",
       "      <td>No</td>\n",
       "      <td>7</td>\n",
       "    </tr>\n",
       "    <tr>\n",
       "      <th>3</th>\n",
       "      <td>4th year</td>\n",
       "      <td>Normal</td>\n",
       "      <td>70</td>\n",
       "      <td>Male</td>\n",
       "      <td>25</td>\n",
       "      <td>Home</td>\n",
       "      <td>In a relationship</td>\n",
       "      <td>Yes</td>\n",
       "      <td>3</td>\n",
       "      <td>Normal</td>\n",
       "      <td>No</td>\n",
       "      <td>No</td>\n",
       "      <td>Yes</td>\n",
       "      <td>No one</td>\n",
       "      <td>Yes</td>\n",
       "      <td>Maybe</td>\n",
       "      <td>Neutral</td>\n",
       "      <td>No</td>\n",
       "      <td>No</td>\n",
       "      <td>8</td>\n",
       "    </tr>\n",
       "    <tr>\n",
       "      <th>4</th>\n",
       "      <td>1st year</td>\n",
       "      <td>Normal</td>\n",
       "      <td>50</td>\n",
       "      <td>Male</td>\n",
       "      <td>22</td>\n",
       "      <td>Home</td>\n",
       "      <td>In a relationship</td>\n",
       "      <td>Yes</td>\n",
       "      <td>3</td>\n",
       "      <td>Normal</td>\n",
       "      <td>Yes</td>\n",
       "      <td>No</td>\n",
       "      <td>Yes</td>\n",
       "      <td>No one</td>\n",
       "      <td>No</td>\n",
       "      <td>No</td>\n",
       "      <td>Yes</td>\n",
       "      <td>No</td>\n",
       "      <td>No</td>\n",
       "      <td>6</td>\n",
       "    </tr>\n",
       "  </tbody>\n",
       "</table>\n",
       "</div>"
      ],
      "text/plain": [
       "  Education Emotion_category  Scale Gender  Age Location Relationship_status  \\\n",
       "0  4th year           Normal     50   Male   25     Home   In a relationship   \n",
       "1  4th year             Good     80   Male   25     Home   In a relationship   \n",
       "2  4th year        Very good     90   Male   25     Home   In a relationship   \n",
       "3  4th year           Normal     70   Male   25     Home   In a relationship   \n",
       "4  1st year           Normal     50   Male   22     Home   In a relationship   \n",
       "\n",
       "  Financial_state   cope_with_environment Understanding_with_family  \\\n",
       "0             Yes                       3                    Normal   \n",
       "1             Yes                       3                      Good   \n",
       "2             Yes                       3                    Normal   \n",
       "3             Yes                       3                    Normal   \n",
       "4             Yes                       3                    Normal   \n",
       "\n",
       "  Feeling_in_study_work Academic_result Living_place   Who_supports?  \\\n",
       "0                    No              No          Yes  Not applicable   \n",
       "1                    No              No          Yes          No one   \n",
       "2                    No              No          Yes          No one   \n",
       "3                    No              No          Yes          No one   \n",
       "4                   Yes              No          Yes          No one   \n",
       "\n",
       "  social_media_activity Inferiority_complex? Todays_meal Health_issues  \\\n",
       "0                   Yes                   No         Yes            No   \n",
       "1                   Yes                   No     Neutral            No   \n",
       "2                   Yes                Maybe         Yes            No   \n",
       "3                   Yes                Maybe     Neutral            No   \n",
       "4                    No                   No         Yes            No   \n",
       "\n",
       "  Recreational_activity  Sleeping_last_night  \n",
       "0                    No                    6  \n",
       "1                    No                    6  \n",
       "2                    No                    7  \n",
       "3                    No                    8  \n",
       "4                    No                    6  "
      ]
     },
     "execution_count": 3,
     "metadata": {},
     "output_type": "execute_result"
    }
   ],
   "source": [
    "# Renaming the columns\n",
    "df.columns = ['Education', 'Emotion_category','Scale','Gender','Age','Location','Relationship_status','Financial_state',' cope_with_environment','Understanding_with_family',\n",
    "              'Feeling_in_study_work','Academic_result','Living_place','Who_supports?','social_media_activity','Inferiority_complex?','Todays_meal','Health_issues',\n",
    "            'Recreational_activity','Sleeping_last_night']\n",
    "\n",
    "df.head()"
   ]
  },
  {
   "cell_type": "code",
   "execution_count": 4,
   "metadata": {},
   "outputs": [
    {
     "data": {
      "text/plain": [
       "array([[50, 25],\n",
       "       [80, 25],\n",
       "       [90, 25],\n",
       "       ...,\n",
       "       [99, 22],\n",
       "       [95, 24],\n",
       "       [75, 23]], dtype=int64)"
      ]
     },
     "execution_count": 4,
     "metadata": {},
     "output_type": "execute_result"
    }
   ],
   "source": [
    "X_selected=df[['Scale', 'Age']].values\n",
    "X_selected"
   ]
  },
  {
   "cell_type": "code",
   "execution_count": 5,
   "metadata": {},
   "outputs": [
    {
     "data": {
      "text/plain": [
       "array([[-0.42396756,  1.14023949],\n",
       "       [ 0.66513367,  1.14023949],\n",
       "       [ 1.02816741,  1.14023949],\n",
       "       ...,\n",
       "       [ 1.35489778, -0.25029647],\n",
       "       [ 1.20968429,  0.6767275 ],\n",
       "       [ 0.4836168 ,  0.21321551]])"
      ]
     },
     "execution_count": 5,
     "metadata": {},
     "output_type": "execute_result"
    }
   ],
   "source": [
    "# Feature Scaling \n",
    "from sklearn.preprocessing import StandardScaler\n",
    "scale_X=StandardScaler()   #scale_X IS AN OBJECT\n",
    "X_selected=scale_X.fit_transform(X_selected)\n",
    "X_selected"
   ]
  },
  {
   "cell_type": "markdown",
   "metadata": {},
   "source": [
    "### Visualize the Raw Data"
   ]
  },
  {
   "cell_type": "code",
   "execution_count": 6,
   "metadata": {},
   "outputs": [
    {
     "data": {
      "image/png": "[encoded data removed]",
      "text/plain": [
       "<Figure size 720x360 with 1 Axes>"
      ]
     },
     "metadata": {
      "needs_background": "light"
     },
     "output_type": "display_data"
    }
   ],
   "source": [
    "df = pd.DataFrame(dict(x=X_selected[:,0], y=X_selected[:,1]))\n",
    "fig, ax = plt.subplots(figsize=(10,5))\n",
    "df.plot(ax=ax, kind='scatter', x='x', y='y')\n",
    "plt.xlabel('Emotion Scale')\n",
    "plt.ylabel('Age')\n",
    "plt.title('Plot of Unclustered Data')\n",
    "plt.show()"
   ]
  },
  {
   "cell_type": "markdown",
   "metadata": {},
   "source": [
    "### Finding the optimal no. of clusters by ELBOW METHOD"
   ]
  },
  {
   "cell_type": "code",
   "execution_count": 25,
   "metadata": {},
   "outputs": [
    {
     "data": {
      "image/png": "[encoded data removed]",
      "text/plain": [
       "<Figure size 720x360 with 1 Axes>"
      ]
     },
     "metadata": {
      "needs_background": "light"
     },
     "output_type": "display_data"
    }
   ],
   "source": [
    "from sklearn.cluster import KMeans\n",
    "SSE=[]   #SUM OF SQUARED ERROR\n",
    "for i in range(1,15):\n",
    "    classifier=KMeans(n_clusters=i,init='k-means++',random_state=42) \n",
    "    classifier.fit(X_selected)\n",
    "    SSE.append(classifier.inertia_)\n",
    "plt.figure(figsize=(10,5))  \n",
    "plt.plot(range(1,15),SSE)\n",
    "plt.title(\"The Elbow Method\")\n",
    "plt.xlabel(\"Number of Clusters\")\n",
    "plt.ylabel(\"SSE\")\n",
    "plt.show()"
   ]
  },
  {
   "cell_type": "markdown",
   "metadata": {},
   "source": [
    "### Functions for K-means"
   ]
  },
  {
   "cell_type": "code",
   "execution_count": 28,
   "metadata": {},
   "outputs": [],
   "source": [
    "def initialize_centroids(k, X):\n",
    "    arr = []\n",
    "    for i in range(k):\n",
    "        cx1 = np.random.uniform(min(X[:,0]), max(X[:,0]))\n",
    "        cx2 = np.random.uniform(min(X[:,1]), max(X[:,1]))\n",
    "        arr.append([cx1, cx2])\n",
    "    return np.asarray(arr)"
   ]
  },
  {
   "cell_type": "code",
   "execution_count": 29,
   "metadata": {},
   "outputs": [],
   "source": [
    "def calculate_dist(a, b):\n",
    "    return np.sqrt(sum(np.square(a-b)))"
   ]
  },
  {
   "cell_type": "code",
   "execution_count": 30,
   "metadata": {},
   "outputs": [],
   "source": [
    "def assign_cluster(k, X, cg):\n",
    "    cluster = [-1]*len(X)\n",
    "    for i in range(len(X)):\n",
    "        dist_arr = []\n",
    "        for j in range(k):\n",
    "            dist_arr.append(calculate_dist(X[i], cg[j]))\n",
    "        idx = np.argmin(dist_arr)\n",
    "        cluster[i] = idx\n",
    "    return np.asarray(cluster)"
   ]
  },
  {
   "cell_type": "code",
   "execution_count": 31,
   "metadata": {},
   "outputs": [],
   "source": [
    "def compute_centroids(k, X, cluster):\n",
    "    cg_arr = []\n",
    "    for i in range(k):\n",
    "        arr = []\n",
    "        for j in range(len(X)):\n",
    "            if cluster[j]==i:\n",
    "                arr.append(X[j])\n",
    "        cg_arr.append(np.mean(arr, axis=0))\n",
    "    return np.asarray(cg_arr)"
   ]
  },
  {
   "cell_type": "code",
   "execution_count": 32,
   "metadata": {},
   "outputs": [],
   "source": [
    "def measure_change(cg_prev, cg_new):\n",
    "    res = 0\n",
    "    for a,b in zip(cg_prev,cg_new):\n",
    "        res+=calculate_dist(a,b)\n",
    "    return res"
   ]
  },
  {
   "cell_type": "code",
   "execution_count": 83,
   "metadata": {},
   "outputs": [],
   "source": [
    "def show_clusters(X, cluster, cg):\n",
    "    df = DataFrame(dict(x=X[:,0], y=X[:,1], label=cluster))\n",
    "    colors = {0:'blue', 1:'red', 2:'green'}\n",
    "    fig, ax = plt.subplots(figsize=(8, 8))\n",
    "    grouped = df.groupby('label')\n",
    "    for key, group in grouped:\n",
    "        group.plot(ax=ax, kind='scatter', x='x', y='y', label=key, color=colors[key])\n",
    "    ax.scatter(cg[:, 0], cg[:, 1], marker='h', s=200, c='#800080')\n",
    "    plt.xlabel('Feature_1')\n",
    "    plt.ylabel('Feature_2')\n",
    "    plt.show()"
   ]
  },
  {
   "cell_type": "markdown",
   "metadata": {},
   "source": [
    "### Putting it altogether to form K-means clustering"
   ]
  },
  {
   "cell_type": "code",
   "execution_count": 84,
   "metadata": {
    "scrolled": false
   },
   "outputs": [
    {
     "data": {
      "image/png": "[encoded data removed]",
      "text/plain": [
       "<Figure size 576x576 with 1 Axes>"
      ]
     },
     "metadata": {
      "needs_background": "light"
     },
     "output_type": "display_data"
    },
    {
     "name": "stdout",
     "output_type": "stream",
     "text": [
      "Co-ordinates of the centroids after each iteration:\n",
      " [[ 0.49976336 -0.69359718]\n",
      " [-1.67982819  0.51468673]\n",
      " [ 0.18961898  0.95787412]]\n"
     ]
    },
    {
     "data": {
      "image/png": "[encoded data removed]",
      "text/plain": [
       "<Figure size 576x576 with 1 Axes>"
      ]
     },
     "metadata": {
      "needs_background": "light"
     },
     "output_type": "display_data"
    },
    {
     "name": "stdout",
     "output_type": "stream",
     "text": [
      "Co-ordinates of the centroids after each iteration:\n",
      " [[ 0.61215037 -0.83751605]\n",
      " [-1.64645008  0.53252377]\n",
      " [ 0.18755366  0.80371709]]\n"
     ]
    },
    {
     "data": {
      "image/png": "[encoded data removed]",
      "text/plain": [
       "<Figure size 576x576 with 1 Axes>"
      ]
     },
     "metadata": {
      "needs_background": "light"
     },
     "output_type": "display_data"
    },
    {
     "name": "stdout",
     "output_type": "stream",
     "text": [
      "Co-ordinates of the centroids after each iteration:\n",
      " [[ 0.56523115 -0.95601961]\n",
      " [-1.64645008  0.53252377]\n",
      " [ 0.28883243  0.73257232]]\n"
     ]
    },
    {
     "data": {
      "image/png": "[encoded data removed]",
      "text/plain": [
       "<Figure size 576x576 with 1 Axes>"
      ]
     },
     "metadata": {
      "needs_background": "light"
     },
     "output_type": "display_data"
    },
    {
     "name": "stdout",
     "output_type": "stream",
     "text": [
      "Co-ordinates of the centroids after each iteration:\n",
      " [[ 0.59196625 -0.97509321]\n",
      " [-1.64645008  0.53252377]\n",
      " [ 0.2693418   0.705697  ]]\n"
     ]
    },
    {
     "data": {
      "image/png": "[encoded data removed]",
      "text/plain": [
       "<Figure size 576x576 with 1 Axes>"
      ]
     },
     "metadata": {
      "needs_background": "light"
     },
     "output_type": "display_data"
    },
    {
     "name": "stdout",
     "output_type": "stream",
     "text": [
      "Co-ordinates of the centroids after each iteration:\n",
      " [[ 0.59520043 -0.9779025 ]\n",
      " [-1.64645008  0.53252377]\n",
      " [ 0.26735039  0.70197718]]\n"
     ]
    },
    {
     "data": {
      "image/png": "[encoded data removed]",
      "text/plain": [
       "<Figure size 576x576 with 1 Axes>"
      ]
     },
     "metadata": {
      "needs_background": "light"
     },
     "output_type": "display_data"
    },
    {
     "name": "stdout",
     "output_type": "stream",
     "text": [
      "Co-ordinates of the centroids after each iteration:\n",
      " [[ 0.59520043 -0.9779025 ]\n",
      " [-1.64645008  0.53252377]\n",
      " [ 0.26735039  0.70197718]]\n"
     ]
    }
   ],
   "source": [
    "def K_means_clustering(k, X):\n",
    "    cg_prev = initialize_centroids(k, X)\n",
    "    cluster = [0]*len(X)\n",
    "    cg_change = 100\n",
    "    while cg_change>.001:\n",
    "        cluster = assign_cluster(k, X, cg_prev)\n",
    "        show_clusters(X, cluster, cg_prev)\n",
    "        cg_new = compute_centroids(k, X, cluster)\n",
    "        cg_change = measure_change(cg_new, cg_prev)\n",
    "        cg_prev = cg_new\n",
    "        print('Co-ordinates of the centroids after each iteration:\\n',cg_prev)\n",
    "    return cluster\n",
    "\n",
    "cluster = K_means_clustering(3, X_selected) # Using the optimal k value"
   ]
  },
  {
   "cell_type": "markdown",
   "metadata": {},
   "source": [
    "### K-means Clustering using Scikit-learn"
   ]
  },
  {
   "cell_type": "code",
   "execution_count": 85,
   "metadata": {},
   "outputs": [],
   "source": [
    "# Fitting K-means to the data\n",
    "kmeans=KMeans(n_clusters=3,init='k-means++',random_state=42).fit(X_selected)"
   ]
  },
  {
   "cell_type": "code",
   "execution_count": 86,
   "metadata": {},
   "outputs": [
    {
     "data": {
      "text/plain": [
       "array([1, 1, 1, 1, 1, 1, 1, 1, 1, 1, 1, 1, 1, 1, 1, 1, 1, 1, 1, 1, 1, 1,\n",
       "       1, 1, 1, 1, 1, 1, 1, 1, 1, 1, 0, 1, 1, 1, 1, 1, 1, 1, 0, 0, 0, 1,\n",
       "       1, 1, 2, 1, 0, 0, 1, 0, 0, 0, 1, 0, 2, 0, 1, 1, 2, 1, 0, 2, 1, 1,\n",
       "       0, 0, 1, 1, 2, 1, 0, 1, 0, 1, 0, 0, 1, 2, 0, 0, 1, 2, 1, 1, 1, 0,\n",
       "       2, 1, 0, 1, 2, 2, 0, 1, 1, 1, 0, 1, 1, 1, 0, 0, 1, 1, 1, 0, 1, 1,\n",
       "       1, 2, 0, 2, 1, 1, 1, 1, 0, 1, 1, 2, 1, 0, 0, 0, 1, 1, 0, 1, 2, 1,\n",
       "       0, 0, 1, 1, 0, 1, 2, 1, 0, 0, 1, 1, 2, 0, 1, 1, 0, 2, 1, 1, 1, 2,\n",
       "       0, 1, 2, 1, 1, 0, 1, 2, 1, 0, 1, 2, 1, 0, 1, 1, 0, 0, 1, 1, 0, 1,\n",
       "       1, 1, 1, 0, 1, 1, 1, 0, 0, 2, 1, 0, 0, 1, 1, 1, 2, 0, 2, 1, 1, 0,\n",
       "       2, 1, 1, 0, 1, 0, 1, 1, 0, 1, 1, 0, 2, 1, 1, 1, 0, 2, 0, 1, 1, 1,\n",
       "       0, 0, 1, 1, 0, 1, 1, 2, 0, 2, 1, 2, 0, 1, 0, 1, 2, 1, 0, 0, 1, 1,\n",
       "       0, 0, 1, 2, 1, 0, 1, 2, 1, 1, 0, 1, 0, 1, 0, 2, 0, 1, 2, 1, 2, 1,\n",
       "       0, 0, 1, 2, 2, 0, 1, 1, 0, 0, 1, 2, 2, 0, 1, 1, 0, 0, 1, 2, 2, 0,\n",
       "       1, 2, 2, 0, 1, 0, 1, 0, 2, 2, 1, 1, 2, 2, 1, 2, 0, 2, 2, 1, 0, 0,\n",
       "       1, 0, 2, 0, 1, 2, 0, 1, 0, 1, 2, 0, 1, 1, 2, 0, 0, 1, 0, 2, 1, 0,\n",
       "       1, 0, 2, 1, 0, 1, 0, 2, 1, 0, 1, 0, 2, 1, 0, 0, 1, 2, 0, 1, 1, 2,\n",
       "       0, 0, 1, 0, 1, 2, 0, 1, 0, 1, 2, 0, 1, 0, 1, 2, 0, 1, 0, 1, 2, 0,\n",
       "       1, 0, 1, 2, 0, 1, 0, 1, 2, 0, 1, 0, 1, 2, 0, 1, 0, 1, 2, 0, 1, 0,\n",
       "       1, 2, 0, 1, 0, 2, 0, 1, 0, 1, 2, 1, 1, 2, 0, 0, 2, 1, 1, 0, 2, 0,\n",
       "       1, 2, 0, 1, 1, 0, 2, 0, 1, 2, 0, 1, 0, 1, 2, 2, 0, 1, 1, 0, 2, 1,\n",
       "       0, 2, 0, 1, 1, 0, 2, 1, 0, 2, 0, 1, 0, 2, 1, 1, 0, 2, 0, 1, 2, 1,\n",
       "       0, 1, 0, 2, 0, 1, 2, 0, 1, 0, 2, 0, 1, 1, 0, 2, 1, 1, 0, 2, 0, 1,\n",
       "       2, 0, 1, 1, 0, 2, 0, 1, 2, 0, 1, 1, 0, 2, 0, 1, 2, 0, 1, 1, 0, 1,\n",
       "       2, 1, 1, 0, 2, 0, 1, 2, 1, 1, 0, 0, 2, 0, 1, 1, 0, 2, 1, 0, 2, 0,\n",
       "       1, 1, 0, 2, 1, 0, 2, 0, 1, 1, 0, 2, 1, 0, 2, 0, 1, 1, 0, 2, 1, 0,\n",
       "       2, 0, 1, 1, 1, 2, 0, 0, 2, 0, 1, 1, 0, 2, 1, 0, 2, 0, 1, 1, 0, 2,\n",
       "       1, 0, 2, 0, 1, 1, 0, 2, 0, 1, 2, 0, 1, 0, 1, 1, 0, 2, 2, 1, 1, 0,\n",
       "       1, 1, 0, 2, 1, 0, 2, 0, 1, 1, 2, 1, 2, 0, 1, 2, 1, 0, 2, 0, 1, 2,\n",
       "       0, 1, 1, 2, 1, 1, 1, 1, 1, 1, 1, 1, 2, 2, 1, 2, 1, 0, 0, 2, 2, 2,\n",
       "       1, 1, 1, 1, 0, 0, 2, 0, 2, 0, 1, 1])"
      ]
     },
     "execution_count": 86,
     "metadata": {},
     "output_type": "execute_result"
    }
   ],
   "source": [
    "# Predict the cluster for each data point\n",
    "clusters = kmeans.predict(X_selected)\n",
    "clusters"
   ]
  },
  {
   "cell_type": "code",
   "execution_count": 87,
   "metadata": {},
   "outputs": [
    {
     "data": {
      "text/plain": [
       "array([[ 0.69661953, -1.13997588],\n",
       "       [ 0.24764486,  0.55475066],\n",
       "       [-1.64645008,  0.53252377]])"
      ]
     },
     "execution_count": 87,
     "metadata": {},
     "output_type": "execute_result"
    }
   ],
   "source": [
    "# Printing the centroids of each cluster\n",
    "centroids = kmeans.cluster_centers_\n",
    "centroids"
   ]
  },
  {
   "cell_type": "code",
   "execution_count": null,
   "metadata": {},
   "outputs": [],
   "source": []
  }
 ],
 "metadata": {
  "kernelspec": {
   "display_name": "Python 3",
   "language": "python",
   "name": "python3"
  },
  "language_info": {
   "codemirror_mode": {
    "name": "ipython",
    "version": 3
   },
   "file_extension": ".py",
   "mimetype": "text/x-python",
   "name": "python",
   "nbconvert_exporter": "python",
   "pygments_lexer": "ipython3",
   "version": "3.8.5"
  }
 },
 "nbformat": 4,
 "nbformat_minor": 4
}
